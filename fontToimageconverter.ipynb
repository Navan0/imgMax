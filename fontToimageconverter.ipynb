{
  "nbformat": 4,
  "nbformat_minor": 0,
  "metadata": {
    "colab": {
      "name": "fontToimageconverter.ipynb",
      "version": "0.3.2",
      "provenance": [],
      "collapsed_sections": [],
      "include_colab_link": true
    },
    "kernelspec": {
      "name": "python3",
      "display_name": "Python 3"
    }
  },
  "cells": [
    {
      "cell_type": "markdown",
      "metadata": {
        "id": "view-in-github",
        "colab_type": "text"
      },
      "source": [
        "<a href=\"https://colab.research.google.com/github/Navan0/fontmagic/blob/master/fontToimageconverter.ipynb\" target=\"_parent\"><img src=\"https://colab.research.google.com/assets/colab-badge.svg\" alt=\"Open In Colab\"/></a>"
      ]
    },
    {
      "metadata": {
        "id": "VWx_AfFhCbII",
        "colab_type": "code",
        "colab": {}
      },
      "cell_type": "code",
      "source": [
        "!wget http://fonts.gstatic.com/s/abeezee/v10/JYPhMn-3Xw-JGuyB-fEdNA.ttf"
      ],
      "execution_count": 0,
      "outputs": []
    },
    {
      "metadata": {
        "id": "9N1Kj_iMwUjq",
        "colab_type": "code",
        "colab": {}
      },
      "cell_type": "code",
      "source": [
        "from PIL import Image, ImageDraw, ImageFont\n",
        "words = [\"A\",\"B\",\"C\",\"D\",\"E\",\"F\",\"G\",\"H\",\"I\",\"J\",\"K\",\"L\",\"M\",\"N\",\"O\",\"P\",\"Q\",\"R\",\"S\",\"T\",\"U\",\"V\",\"W\",\"X\",\"Y\",\"Z\"]\n",
        "no = len(words)\n",
        "for i in range(no):\n",
        "  img = Image.new('RGB', (320, 320), color = (73, 109, 137))\n",
        "  fnt = ImageFont.truetype('/root/JYPhMn-3Xw-JGuyB-fEdNA.ttf', 15)\n",
        "  d = ImageDraw.Draw(img)\n",
        "  d.text((200,200), words[i], font=fnt, fill=(255, 255, 255))\n",
        "  img.save('/root/fonts/ABeeZee/ABeeZee'+str(words[i])+'.png')"
      ],
      "execution_count": 0,
      "outputs": []
    },
    {
      "metadata": {
        "id": "XxH_aTLKCp51",
        "colab_type": "code",
        "colab": {}
      },
      "cell_type": "code",
      "source": [
        "!zip -r /root/file.zip /root/fonts/ABeeZee\n",
        "\n",
        "from google.colab import files\n",
        "files.download('file.zip') "
      ],
      "execution_count": 0,
      "outputs": []
    }
  ]
}